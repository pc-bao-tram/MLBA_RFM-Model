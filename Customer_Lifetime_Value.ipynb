version https://git-lfs.github.com/spec/v1
oid sha256:4973cd4ec7c5b628b3dabb2594b3329b4ffd38fca0ba9b3f3d773f57f4e922d7
size 2478921
