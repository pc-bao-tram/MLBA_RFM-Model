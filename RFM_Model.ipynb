version https://git-lfs.github.com/spec/v1
oid sha256:4cb45876ddeb7901a5aabc42d5d20fde3040f2266eba5afa148139efe5cbd98a
size 26345129
