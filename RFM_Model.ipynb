version https://git-lfs.github.com/spec/v1
oid sha256:24c8303fb6b6bf6944a6f20e3b98f47313be677181131ff906ae972f6f37a9bb
size 26386287
